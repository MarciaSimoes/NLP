{
  "nbformat": 4,
  "nbformat_minor": 0,
  "metadata": {
    "colab": {
      "provenance": [],
      "include_colab_link": true
    },
    "kernelspec": {
      "name": "python3",
      "display_name": "Python 3"
    },
    "language_info": {
      "name": "python"
    }
  },
  "cells": [
    {
      "cell_type": "markdown",
      "metadata": {
        "id": "view-in-github",
        "colab_type": "text"
      },
      "source": [
        "<a href=\"https://colab.research.google.com/github/MarciaSimoes/NLP/blob/main/C%C3%B3pia_de_price_elastic_demand.ipynb\" target=\"_parent\"><img src=\"https://colab.research.google.com/assets/colab-badge.svg\" alt=\"Open In Colab\"/></a>"
      ]
    },
    {
      "cell_type": "code",
      "execution_count": null,
      "metadata": {
        "id": "MmIDtO0qAMvf"
      },
      "outputs": [],
      "source": [
        "import pandas as pd\n",
        "import numpy as np\n",
        "\n",
        "import matplotlib.pyplot as plt\n",
        "import seaborn as sns\n",
        "sns.set()\n",
        "from sklearn.linear_model import LogisticRegression\n",
        "from sklearn.model_selection import train_test_split\n",
        "from sklearn.metrics import classification_report\n",
        "# %matplotlib inline"
      ]
    },
    {
      "cell_type": "code",
      "source": [
        "#IMPORT DATABASE FROM DRIVE\n",
        "from google.colab import drive\n",
        "drive.mount('/content/drive')"
      ],
      "metadata": {
        "colab": {
          "base_uri": "https://localhost:8080/"
        },
        "id": "DU7TMzz6DXTP",
        "outputId": "9d1077c0-0d65-4e37-a376-c050d8ae16cd"
      },
      "execution_count": null,
      "outputs": [
        {
          "output_type": "stream",
          "name": "stdout",
          "text": [
            "Mounted at /content/drive\n"
          ]
        }
      ]
    },
    {
      "cell_type": "code",
      "source": [
        "df_purchase = pd.read_csv('/content/drive/MyDrive/Colab Notebooks/price/purchase_data.csv')\n",
        "df_customers = pd.read_csv('/content/drive/MyDrive/Colab Notebooks/price/customers.csv')"
      ],
      "metadata": {
        "id": "-afqi_EMD51i"
      },
      "execution_count": null,
      "outputs": []
    },
    {
      "cell_type": "code",
      "source": [
        "df_purchase[df_purchase.ID=='200000001'].info()"
      ],
      "metadata": {
        "id": "wedHlzIxETY7"
      },
      "execution_count": null,
      "outputs": []
    },
    {
      "cell_type": "markdown",
      "source": [
        "Data preparation"
      ],
      "metadata": {
        "id": "OKhLkqFxEr7r"
      }
    },
    {
      "cell_type": "code",
      "source": [
        "df_purchase = df_purchase.drop(columns=['Last_Inc_Brand', 'Last_Inc_Quantity'])\n",
        "\n",
        "df_purchase['Segment'] = df_purchase['Segment'].map({\n",
        "    0: 'standard',\n",
        "    1: 'career-focused',\n",
        "    2: 'fewer-opportunities',\n",
        "    3: 'well-off'\n",
        "})\n",
        "\n",
        "df_purchase['Mean_Price'] = (df_purchase['Price_1'] + df_purchase['Price_2'] + df_purchase['Price_3'] + df_purchase['Price_4'] + df_purchase['Price_5']) / 5\n",
        "df_purchase['Has_Promotion'] = (df_purchase['Promotion_1'] + df_purchase['Promotion_2'] + df_purchase['Promotion_3'] + df_purchase['Promotion_4'] + df_purchase['Promotion_5'])\n",
        "\n",
        "def get_active_price(record):\n",
        "    if record['Brand'] == 1: return record['Price_1']\n",
        "    if record['Brand'] == 2: return record['Price_2']\n",
        "    if record['Brand'] == 3: return record['Price_3']\n",
        "    if record['Brand'] == 4: return record['Price_4']\n",
        "    if record['Brand'] == 5: return record['Price_5']\n",
        "    return 0\n",
        "\n",
        "df_purchase['Action_Price'] = df_purchase.apply(lambda x: get_active_price(x), axis=1)\n",
        "\n",
        "df_purchase.head()"
      ],
      "metadata": {
        "colab": {
          "base_uri": "https://localhost:8080/",
          "height": 357
        },
        "id": "xxpbNeufEskI",
        "outputId": "4357d87b-f090-4eea-db85-2cf108bde43e"
      },
      "execution_count": null,
      "outputs": [
        {
          "output_type": "execute_result",
          "data": {
            "text/plain": [
              "          ID  Day  Incidence  Brand  Quantity  Price_1  Price_2  Price_3  \\\n",
              "0  200000001    1          0      0         0     1.59     1.87     2.01   \n",
              "1  200000001   11          0      0         0     1.51     1.89     1.99   \n",
              "2  200000001   12          0      0         0     1.51     1.89     1.99   \n",
              "3  200000001   16          0      0         0     1.52     1.89     1.98   \n",
              "4  200000001   18          0      0         0     1.52     1.89     1.99   \n",
              "\n",
              "   Price_4  Price_5  Promotion_1  Promotion_2  Promotion_3  Promotion_4  \\\n",
              "0     2.09     2.66            0            1            0            0   \n",
              "1     2.09     2.66            0            0            0            0   \n",
              "2     2.09     2.66            0            0            0            0   \n",
              "3     2.09     2.66            0            0            0            0   \n",
              "4     2.09     2.66            0            0            0            0   \n",
              "\n",
              "   Promotion_5              Segment  Mean_Price  Has_Promotion  Action_Price  \n",
              "0            0  fewer-opportunities       2.044              1           0.0  \n",
              "1            0  fewer-opportunities       2.028              0           0.0  \n",
              "2            0  fewer-opportunities       2.028              0           0.0  \n",
              "3            0  fewer-opportunities       2.028              0           0.0  \n",
              "4            0  fewer-opportunities       2.030              0           0.0  "
            ],
            "text/html": [
              "\n",
              "  <div id=\"df-7d9e7f5c-e2db-4bf6-a0d0-634bb966f9c2\">\n",
              "    <div class=\"colab-df-container\">\n",
              "      <div>\n",
              "<style scoped>\n",
              "    .dataframe tbody tr th:only-of-type {\n",
              "        vertical-align: middle;\n",
              "    }\n",
              "\n",
              "    .dataframe tbody tr th {\n",
              "        vertical-align: top;\n",
              "    }\n",
              "\n",
              "    .dataframe thead th {\n",
              "        text-align: right;\n",
              "    }\n",
              "</style>\n",
              "<table border=\"1\" class=\"dataframe\">\n",
              "  <thead>\n",
              "    <tr style=\"text-align: right;\">\n",
              "      <th></th>\n",
              "      <th>ID</th>\n",
              "      <th>Day</th>\n",
              "      <th>Incidence</th>\n",
              "      <th>Brand</th>\n",
              "      <th>Quantity</th>\n",
              "      <th>Price_1</th>\n",
              "      <th>Price_2</th>\n",
              "      <th>Price_3</th>\n",
              "      <th>Price_4</th>\n",
              "      <th>Price_5</th>\n",
              "      <th>Promotion_1</th>\n",
              "      <th>Promotion_2</th>\n",
              "      <th>Promotion_3</th>\n",
              "      <th>Promotion_4</th>\n",
              "      <th>Promotion_5</th>\n",
              "      <th>Segment</th>\n",
              "      <th>Mean_Price</th>\n",
              "      <th>Has_Promotion</th>\n",
              "      <th>Action_Price</th>\n",
              "    </tr>\n",
              "  </thead>\n",
              "  <tbody>\n",
              "    <tr>\n",
              "      <th>0</th>\n",
              "      <td>200000001</td>\n",
              "      <td>1</td>\n",
              "      <td>0</td>\n",
              "      <td>0</td>\n",
              "      <td>0</td>\n",
              "      <td>1.59</td>\n",
              "      <td>1.87</td>\n",
              "      <td>2.01</td>\n",
              "      <td>2.09</td>\n",
              "      <td>2.66</td>\n",
              "      <td>0</td>\n",
              "      <td>1</td>\n",
              "      <td>0</td>\n",
              "      <td>0</td>\n",
              "      <td>0</td>\n",
              "      <td>fewer-opportunities</td>\n",
              "      <td>2.044</td>\n",
              "      <td>1</td>\n",
              "      <td>0.0</td>\n",
              "    </tr>\n",
              "    <tr>\n",
              "      <th>1</th>\n",
              "      <td>200000001</td>\n",
              "      <td>11</td>\n",
              "      <td>0</td>\n",
              "      <td>0</td>\n",
              "      <td>0</td>\n",
              "      <td>1.51</td>\n",
              "      <td>1.89</td>\n",
              "      <td>1.99</td>\n",
              "      <td>2.09</td>\n",
              "      <td>2.66</td>\n",
              "      <td>0</td>\n",
              "      <td>0</td>\n",
              "      <td>0</td>\n",
              "      <td>0</td>\n",
              "      <td>0</td>\n",
              "      <td>fewer-opportunities</td>\n",
              "      <td>2.028</td>\n",
              "      <td>0</td>\n",
              "      <td>0.0</td>\n",
              "    </tr>\n",
              "    <tr>\n",
              "      <th>2</th>\n",
              "      <td>200000001</td>\n",
              "      <td>12</td>\n",
              "      <td>0</td>\n",
              "      <td>0</td>\n",
              "      <td>0</td>\n",
              "      <td>1.51</td>\n",
              "      <td>1.89</td>\n",
              "      <td>1.99</td>\n",
              "      <td>2.09</td>\n",
              "      <td>2.66</td>\n",
              "      <td>0</td>\n",
              "      <td>0</td>\n",
              "      <td>0</td>\n",
              "      <td>0</td>\n",
              "      <td>0</td>\n",
              "      <td>fewer-opportunities</td>\n",
              "      <td>2.028</td>\n",
              "      <td>0</td>\n",
              "      <td>0.0</td>\n",
              "    </tr>\n",
              "    <tr>\n",
              "      <th>3</th>\n",
              "      <td>200000001</td>\n",
              "      <td>16</td>\n",
              "      <td>0</td>\n",
              "      <td>0</td>\n",
              "      <td>0</td>\n",
              "      <td>1.52</td>\n",
              "      <td>1.89</td>\n",
              "      <td>1.98</td>\n",
              "      <td>2.09</td>\n",
              "      <td>2.66</td>\n",
              "      <td>0</td>\n",
              "      <td>0</td>\n",
              "      <td>0</td>\n",
              "      <td>0</td>\n",
              "      <td>0</td>\n",
              "      <td>fewer-opportunities</td>\n",
              "      <td>2.028</td>\n",
              "      <td>0</td>\n",
              "      <td>0.0</td>\n",
              "    </tr>\n",
              "    <tr>\n",
              "      <th>4</th>\n",
              "      <td>200000001</td>\n",
              "      <td>18</td>\n",
              "      <td>0</td>\n",
              "      <td>0</td>\n",
              "      <td>0</td>\n",
              "      <td>1.52</td>\n",
              "      <td>1.89</td>\n",
              "      <td>1.99</td>\n",
              "      <td>2.09</td>\n",
              "      <td>2.66</td>\n",
              "      <td>0</td>\n",
              "      <td>0</td>\n",
              "      <td>0</td>\n",
              "      <td>0</td>\n",
              "      <td>0</td>\n",
              "      <td>fewer-opportunities</td>\n",
              "      <td>2.030</td>\n",
              "      <td>0</td>\n",
              "      <td>0.0</td>\n",
              "    </tr>\n",
              "  </tbody>\n",
              "</table>\n",
              "</div>\n",
              "      <button class=\"colab-df-convert\" onclick=\"convertToInteractive('df-7d9e7f5c-e2db-4bf6-a0d0-634bb966f9c2')\"\n",
              "              title=\"Convert this dataframe to an interactive table.\"\n",
              "              style=\"display:none;\">\n",
              "        \n",
              "  <svg xmlns=\"http://www.w3.org/2000/svg\" height=\"24px\"viewBox=\"0 0 24 24\"\n",
              "       width=\"24px\">\n",
              "    <path d=\"M0 0h24v24H0V0z\" fill=\"none\"/>\n",
              "    <path d=\"M18.56 5.44l.94 2.06.94-2.06 2.06-.94-2.06-.94-.94-2.06-.94 2.06-2.06.94zm-11 1L8.5 8.5l.94-2.06 2.06-.94-2.06-.94L8.5 2.5l-.94 2.06-2.06.94zm10 10l.94 2.06.94-2.06 2.06-.94-2.06-.94-.94-2.06-.94 2.06-2.06.94z\"/><path d=\"M17.41 7.96l-1.37-1.37c-.4-.4-.92-.59-1.43-.59-.52 0-1.04.2-1.43.59L10.3 9.45l-7.72 7.72c-.78.78-.78 2.05 0 2.83L4 21.41c.39.39.9.59 1.41.59.51 0 1.02-.2 1.41-.59l7.78-7.78 2.81-2.81c.8-.78.8-2.07 0-2.86zM5.41 20L4 18.59l7.72-7.72 1.47 1.35L5.41 20z\"/>\n",
              "  </svg>\n",
              "      </button>\n",
              "      \n",
              "  <style>\n",
              "    .colab-df-container {\n",
              "      display:flex;\n",
              "      flex-wrap:wrap;\n",
              "      gap: 12px;\n",
              "    }\n",
              "\n",
              "    .colab-df-convert {\n",
              "      background-color: #E8F0FE;\n",
              "      border: none;\n",
              "      border-radius: 50%;\n",
              "      cursor: pointer;\n",
              "      display: none;\n",
              "      fill: #1967D2;\n",
              "      height: 32px;\n",
              "      padding: 0 0 0 0;\n",
              "      width: 32px;\n",
              "    }\n",
              "\n",
              "    .colab-df-convert:hover {\n",
              "      background-color: #E2EBFA;\n",
              "      box-shadow: 0px 1px 2px rgba(60, 64, 67, 0.3), 0px 1px 3px 1px rgba(60, 64, 67, 0.15);\n",
              "      fill: #174EA6;\n",
              "    }\n",
              "\n",
              "    [theme=dark] .colab-df-convert {\n",
              "      background-color: #3B4455;\n",
              "      fill: #D2E3FC;\n",
              "    }\n",
              "\n",
              "    [theme=dark] .colab-df-convert:hover {\n",
              "      background-color: #434B5C;\n",
              "      box-shadow: 0px 1px 3px 1px rgba(0, 0, 0, 0.15);\n",
              "      filter: drop-shadow(0px 1px 2px rgba(0, 0, 0, 0.3));\n",
              "      fill: #FFFFFF;\n",
              "    }\n",
              "  </style>\n",
              "\n",
              "      <script>\n",
              "        const buttonEl =\n",
              "          document.querySelector('#df-7d9e7f5c-e2db-4bf6-a0d0-634bb966f9c2 button.colab-df-convert');\n",
              "        buttonEl.style.display =\n",
              "          google.colab.kernel.accessAllowed ? 'block' : 'none';\n",
              "\n",
              "        async function convertToInteractive(key) {\n",
              "          const element = document.querySelector('#df-7d9e7f5c-e2db-4bf6-a0d0-634bb966f9c2');\n",
              "          const dataTable =\n",
              "            await google.colab.kernel.invokeFunction('convertToInteractive',\n",
              "                                                     [key], {});\n",
              "          if (!dataTable) return;\n",
              "\n",
              "          const docLinkHtml = 'Like what you see? Visit the ' +\n",
              "            '<a target=\"_blank\" href=https://colab.research.google.com/notebooks/data_table.ipynb>data table notebook</a>'\n",
              "            + ' to learn more about interactive tables.';\n",
              "          element.innerHTML = '';\n",
              "          dataTable['output_type'] = 'display_data';\n",
              "          await google.colab.output.renderOutput(dataTable, element);\n",
              "          const docLink = document.createElement('div');\n",
              "          docLink.innerHTML = docLinkHtml;\n",
              "          element.appendChild(docLink);\n",
              "        }\n",
              "      </script>\n",
              "    </div>\n",
              "  </div>\n",
              "  "
            ]
          },
          "metadata": {},
          "execution_count": 6
        }
      ]
    },
    {
      "cell_type": "code",
      "source": [
        "LabelEncoder# Distinct brands\n",
        "\n",
        "np.sort(df_purchase['Brand'].unique())"
      ],
      "metadata": {
        "colab": {
          "base_uri": "https://localhost:8080/"
        },
        "id": "76UbXMM1FwUE",
        "outputId": "4d0a4315-4e8c-4ee0-8a37-08383d7b396f"
      },
      "execution_count": null,
      "outputs": [
        {
          "output_type": "execute_result",
          "data": {
            "text/plain": [
              "array([0, 1, 2, 3, 4, 5])"
            ]
          },
          "metadata": {},
          "execution_count": 7
        }
      ]
    },
    {
      "cell_type": "markdown",
      "source": [
        "Number of unique customers per segment"
      ],
      "metadata": {
        "id": "hBSqWN9CF1lV"
      }
    },
    {
      "cell_type": "code",
      "source": [
        "df_segment = df_purchase[['ID', 'Segment']].drop_duplicates()\n",
        "segments = df_segment['Segment'].value_counts()\n",
        "\n",
        "segments.plot.pie(figsize=(6, 6), autopct='%1.0f%%', label='') # startangle=0\n",
        "p = plt.gcf()\n",
        "p.gca().add_artist(plt.Circle((0,0), 0.5, color='white'))\n",
        "\n",
        "plt.show()"
      ],
      "metadata": {
        "colab": {
          "base_uri": "https://localhost:8080/",
          "height": 357
        },
        "id": "MQleAWHUF4TE",
        "outputId": "16982365-daf8-44dc-80ec-0f90717302b9"
      },
      "execution_count": null,
      "outputs": [
        {
          "output_type": "display_data",
          "data": {
            "text/plain": [
              "<Figure size 432x432 with 1 Axes>"
            ],
            "image/png": "[encoded data removed]"
          },
          "metadata": {}
        }
      ]
    },
    {
      "cell_type": "markdown",
      "source": [
        "Number of incidence (purchase/no-purchase) per Segment"
      ],
      "metadata": {
        "id": "LJf7td6QGDG8"
      }
    },
    {
      "cell_type": "code",
      "source": [
        "plt.figure(figsize=(8, 6))\n",
        "s = sns.countplot(data=df_purchase, x='Segment', hue='Incidence')\n",
        "plt.xlabel('Segment')\n",
        "plt.ylabel('Incidence')\n",
        "plt.show()"
      ],
      "metadata": {
        "colab": {
          "base_uri": "https://localhost:8080/",
          "height": 394
        },
        "id": "rHq2C2eUGGCM",
        "outputId": "17f7b510-f0f1-40ba-8f31-1c8d6a50dd40"
      },
      "execution_count": null,
      "outputs": [
        {
          "output_type": "display_data",
          "data": {
            "text/plain": [
              "<Figure size 576x432 with 1 Axes>"
            ],
            "image/png": "[encoded data removed]"
          },
          "metadata": {}
        }
      ]
    },
    {
      "cell_type": "markdown",
      "source": [
        "Average price and Action price per segment (Focusing on positive purchase incidence only)"
      ],
      "metadata": {
        "id": "BnbOeaf1GPlk"
      }
    },
    {
      "cell_type": "code",
      "source": [
        "df_segment_incidence = df_purchase[df_purchase['Incidence'] == 1].copy()\n",
        "fig, axs = plt.subplots(1, 2, figsize=(16, 8))\n",
        "sns.boxplot(x='Segment', y='Mean_Price', data=df_segment_incidence, ax=axs[0])\n",
        "sns.boxplot(x='Segment', y='Action_Price', data=df_segment_incidence, ax=axs[1])\n",
        "plt.show()"
      ],
      "metadata": {
        "colab": {
          "base_uri": "https://localhost:8080/",
          "height": 502
        },
        "id": "K8MUwJzTGW7B",
        "outputId": "4f30bfbc-b828-4705-a1a8-06ca8b4e4849"
      },
      "execution_count": null,
      "outputs": [
        {
          "output_type": "display_data",
          "data": {
            "text/plain": [
              "<Figure size 1152x576 with 2 Axes>"
            ],
            "image/png": "[encoded data removed]"
          },
          "metadata": {}
        }
      ]
    },
    {
      "cell_type": "markdown",
      "source": [
        "#Logistic Regression"
      ],
      "metadata": {
        "id": "FDxTuEuLGvMM"
      }
    },
    {
      "cell_type": "code",
      "source": [
        "X = pd.DataFrame()\n",
        "X['Mean_Price'] = df_purchase['Mean_Price']\n",
        "y = df_purchase['Incidence']\n",
        "\n",
        "lr = LogisticRegression(solver='sag')\n",
        "lr.fit(X, y)\n",
        "\n",
        "print(lr.coef_)"
      ],
      "metadata": {
        "colab": {
          "base_uri": "https://localhost:8080/"
        },
        "id": "FFr0q4d_Gx-O",
        "outputId": "2b39215f-1fe5-4389-d01d-f949b3d3abe0"
      },
      "execution_count": null,
      "outputs": [
        {
          "output_type": "stream",
          "name": "stdout",
          "text": [
            "[[-2.3486121]]\n"
          ]
        }
      ]
    },
    {
      "cell_type": "code",
      "source": [
        "df_purchase[['Price_1', 'Price_2', 'Price_3', 'Price_4', 'Price_5']].describe()"
      ],
      "metadata": {
        "colab": {
          "base_uri": "https://localhost:8080/",
          "height": 300
        },
        "id": "D9_cyAUTG81J",
        "outputId": "82d8f603-61c2-4242-a4d7-ad00ec927b08"
      },
      "execution_count": null,
      "outputs": [
        {
          "output_type": "execute_result",
          "data": {
            "text/plain": [
              "            Price_1       Price_2       Price_3       Price_4       Price_5\n",
              "count  58693.000000  58693.000000  58693.000000  58693.000000  58693.000000\n",
              "mean       1.392074      1.780999      2.006789      2.159945      2.654798\n",
              "std        0.091139      0.170868      0.046867      0.089825      0.098272\n",
              "min        1.100000      1.260000      1.870000      1.760000      2.110000\n",
              "25%        1.340000      1.580000      1.970000      2.120000      2.630000\n",
              "50%        1.390000      1.880000      2.010000      2.170000      2.670000\n",
              "75%        1.470000      1.890000      2.060000      2.240000      2.700000\n",
              "max        1.590000      1.900000      2.140000      2.260000      2.800000"
            ],
            "text/html": [
              "\n",
              "  <div id=\"df-d51e466a-a2e7-44f3-b152-d5d5f4f0c735\">\n",
              "    <div class=\"colab-df-container\">\n",
              "      <div>\n",
              "<style scoped>\n",
              "    .dataframe tbody tr th:only-of-type {\n",
              "        vertical-align: middle;\n",
              "    }\n",
              "\n",
              "    .dataframe tbody tr th {\n",
              "        vertical-align: top;\n",
              "    }\n",
              "\n",
              "    .dataframe thead th {\n",
              "        text-align: right;\n",
              "    }\n",
              "</style>\n",
              "<table border=\"1\" class=\"dataframe\">\n",
              "  <thead>\n",
              "    <tr style=\"text-align: right;\">\n",
              "      <th></th>\n",
              "      <th>Price_1</th>\n",
              "      <th>Price_2</th>\n",
              "      <th>Price_3</th>\n",
              "      <th>Price_4</th>\n",
              "      <th>Price_5</th>\n",
              "    </tr>\n",
              "  </thead>\n",
              "  <tbody>\n",
              "    <tr>\n",
              "      <th>count</th>\n",
              "      <td>58693.000000</td>\n",
              "      <td>58693.000000</td>\n",
              "      <td>58693.000000</td>\n",
              "      <td>58693.000000</td>\n",
              "      <td>58693.000000</td>\n",
              "    </tr>\n",
              "    <tr>\n",
              "      <th>mean</th>\n",
              "      <td>1.392074</td>\n",
              "      <td>1.780999</td>\n",
              "      <td>2.006789</td>\n",
              "      <td>2.159945</td>\n",
              "      <td>2.654798</td>\n",
              "    </tr>\n",
              "    <tr>\n",
              "      <th>std</th>\n",
              "      <td>0.091139</td>\n",
              "      <td>0.170868</td>\n",
              "      <td>0.046867</td>\n",
              "      <td>0.089825</td>\n",
              "      <td>0.098272</td>\n",
              "    </tr>\n",
              "    <tr>\n",
              "      <th>min</th>\n",
              "      <td>1.100000</td>\n",
              "      <td>1.260000</td>\n",
              "      <td>1.870000</td>\n",
              "      <td>1.760000</td>\n",
              "      <td>2.110000</td>\n",
              "    </tr>\n",
              "    <tr>\n",
              "      <th>25%</th>\n",
              "      <td>1.340000</td>\n",
              "      <td>1.580000</td>\n",
              "      <td>1.970000</td>\n",
              "      <td>2.120000</td>\n",
              "      <td>2.630000</td>\n",
              "    </tr>\n",
              "    <tr>\n",
              "      <th>50%</th>\n",
              "      <td>1.390000</td>\n",
              "      <td>1.880000</td>\n",
              "      <td>2.010000</td>\n",
              "      <td>2.170000</td>\n",
              "      <td>2.670000</td>\n",
              "    </tr>\n",
              "    <tr>\n",
              "      <th>75%</th>\n",
              "      <td>1.470000</td>\n",
              "      <td>1.890000</td>\n",
              "      <td>2.060000</td>\n",
              "      <td>2.240000</td>\n",
              "      <td>2.700000</td>\n",
              "    </tr>\n",
              "    <tr>\n",
              "      <th>max</th>\n",
              "      <td>1.590000</td>\n",
              "      <td>1.900000</td>\n",
              "      <td>2.140000</td>\n",
              "      <td>2.260000</td>\n",
              "      <td>2.800000</td>\n",
              "    </tr>\n",
              "  </tbody>\n",
              "</table>\n",
              "</div>\n",
              "      <button class=\"colab-df-convert\" onclick=\"convertToInteractive('df-d51e466a-a2e7-44f3-b152-d5d5f4f0c735')\"\n",
              "              title=\"Convert this dataframe to an interactive table.\"\n",
              "              style=\"display:none;\">\n",
              "        \n",
              "  <svg xmlns=\"http://www.w3.org/2000/svg\" height=\"24px\"viewBox=\"0 0 24 24\"\n",
              "       width=\"24px\">\n",
              "    <path d=\"M0 0h24v24H0V0z\" fill=\"none\"/>\n",
              "    <path d=\"M18.56 5.44l.94 2.06.94-2.06 2.06-.94-2.06-.94-.94-2.06-.94 2.06-2.06.94zm-11 1L8.5 8.5l.94-2.06 2.06-.94-2.06-.94L8.5 2.5l-.94 2.06-2.06.94zm10 10l.94 2.06.94-2.06 2.06-.94-2.06-.94-.94-2.06-.94 2.06-2.06.94z\"/><path d=\"M17.41 7.96l-1.37-1.37c-.4-.4-.92-.59-1.43-.59-.52 0-1.04.2-1.43.59L10.3 9.45l-7.72 7.72c-.78.78-.78 2.05 0 2.83L4 21.41c.39.39.9.59 1.41.59.51 0 1.02-.2 1.41-.59l7.78-7.78 2.81-2.81c.8-.78.8-2.07 0-2.86zM5.41 20L4 18.59l7.72-7.72 1.47 1.35L5.41 20z\"/>\n",
              "  </svg>\n",
              "      </button>\n",
              "      \n",
              "  <style>\n",
              "    .colab-df-container {\n",
              "      display:flex;\n",
              "      flex-wrap:wrap;\n",
              "      gap: 12px;\n",
              "    }\n",
              "\n",
              "    .colab-df-convert {\n",
              "      background-color: #E8F0FE;\n",
              "      border: none;\n",
              "      border-radius: 50%;\n",
              "      cursor: pointer;\n",
              "      display: none;\n",
              "      fill: #1967D2;\n",
              "      height: 32px;\n",
              "      padding: 0 0 0 0;\n",
              "      width: 32px;\n",
              "    }\n",
              "\n",
              "    .colab-df-convert:hover {\n",
              "      background-color: #E2EBFA;\n",
              "      box-shadow: 0px 1px 2px rgba(60, 64, 67, 0.3), 0px 1px 3px 1px rgba(60, 64, 67, 0.15);\n",
              "      fill: #174EA6;\n",
              "    }\n",
              "\n",
              "    [theme=dark] .colab-df-convert {\n",
              "      background-color: #3B4455;\n",
              "      fill: #D2E3FC;\n",
              "    }\n",
              "\n",
              "    [theme=dark] .colab-df-convert:hover {\n",
              "      background-color: #434B5C;\n",
              "      box-shadow: 0px 1px 3px 1px rgba(0, 0, 0, 0.15);\n",
              "      filter: drop-shadow(0px 1px 2px rgba(0, 0, 0, 0.3));\n",
              "      fill: #FFFFFF;\n",
              "    }\n",
              "  </style>\n",
              "\n",
              "      <script>\n",
              "        const buttonEl =\n",
              "          document.querySelector('#df-d51e466a-a2e7-44f3-b152-d5d5f4f0c735 button.colab-df-convert');\n",
              "        buttonEl.style.display =\n",
              "          google.colab.kernel.accessAllowed ? 'block' : 'none';\n",
              "\n",
              "        async function convertToInteractive(key) {\n",
              "          const element = document.querySelector('#df-d51e466a-a2e7-44f3-b152-d5d5f4f0c735');\n",
              "          const dataTable =\n",
              "            await google.colab.kernel.invokeFunction('convertToInteractive',\n",
              "                                                     [key], {});\n",
              "          if (!dataTable) return;\n",
              "\n",
              "          const docLinkHtml = 'Like what you see? Visit the ' +\n",
              "            '<a target=\"_blank\" href=https://colab.research.google.com/notebooks/data_table.ipynb>data table notebook</a>'\n",
              "            + ' to learn more about interactive tables.';\n",
              "          element.innerHTML = '';\n",
              "          dataTable['output_type'] = 'display_data';\n",
              "          await google.colab.output.renderOutput(dataTable, element);\n",
              "          const docLink = document.createElement('div');\n",
              "          docLink.innerHTML = docLinkHtml;\n",
              "          element.appendChild(docLink);\n",
              "        }\n",
              "      </script>\n",
              "    </div>\n",
              "  </div>\n",
              "  "
            ]
          },
          "metadata": {},
          "execution_count": 12
        }
      ]
    },
    {
      "cell_type": "code",
      "source": [
        "price_range = np.arange(0.5, 3.5, 0.01)\n",
        "df_price_range = pd.DataFrame({'Mean_Price': price_range})"
      ],
      "metadata": {
        "id": "M7ho2EJKHFI4"
      },
      "execution_count": null,
      "outputs": []
    },
    {
      "cell_type": "code",
      "source": [
        "y_proba = lr.predict_proba(df_price_range)\n",
        "purchase_proba = y_proba[:][:, 1]\n",
        "\n",
        "df_purchase_proba = pd.DataFrame({'Purchase_Proba': purchase_proba})\n",
        "df_price_proba = pd.concat([df_price_range, df_purchase_proba], axis=1)\n",
        "# df_price_proba.head(50)"
      ],
      "metadata": {
        "id": "ft8CZvjAG844"
      },
      "execution_count": null,
      "outputs": []
    },
    {
      "cell_type": "code",
      "source": [
        "fig, ax = plt.subplots(figsize=(12, 8))\n",
        "\n",
        "sns.lineplot(data=df_price_proba, x='Mean_Price', y='Purchase_Proba', ax=ax)\n",
        "ax.fill_between(data=df_price_proba, x='Mean_Price', y1='Purchase_Proba', alpha=0.2)\n",
        "\n",
        "plt.show()"
      ],
      "metadata": {
        "colab": {
          "base_uri": "https://localhost:8080/",
          "height": 502
        },
        "id": "TV3N7j1jHPGa",
        "outputId": "85c3bc71-c305-43f7-ddf1-43b0c25beda1"
      },
      "execution_count": null,
      "outputs": [
        {
          "output_type": "display_data",
          "data": {
            "text/plain": [
              "<Figure size 864x576 with 1 Axes>"
            ],
            "image/png": "[encoded data removed]"
          },
          "metadata": {}
        }
      ]
    },
    {
      "cell_type": "markdown",
      "source": [
        "#Predicting Price Elasticity of Demand"
      ],
      "metadata": {
        "id": "o0ERv08nHWg-"
      }
    },
    {
      "cell_type": "code",
      "source": [
        "pe = lr.coef_[:, 0] * price_range * (1 - purchase_proba)\n",
        "\n",
        "df_pe = pd.DataFrame({'Mean_Price_Elasticity': pe})\n",
        "df_price_elasticity = pd.concat([df_price_proba, df_pe], axis=1)\n",
        "df_price_elasticity"
      ],
      "metadata": {
        "colab": {
          "base_uri": "https://localhost:8080/",
          "height": 423
        },
        "id": "hk1Z1eQOHcEc",
        "outputId": "db754dd4-170c-412f-fca7-029bfa0efafe"
      },
      "execution_count": null,
      "outputs": [
        {
          "output_type": "execute_result",
          "data": {
            "text/plain": [
              "     Mean_Price  Purchase_Proba  Mean_Price_Elasticity\n",
              "0          0.50        0.917858              -0.096460\n",
              "1          0.51        0.916070              -0.100531\n",
              "2          0.52        0.914247              -0.104729\n",
              "3          0.53        0.912387              -0.109057\n",
              "4          0.54        0.910492              -0.113519\n",
              "..          ...             ...                    ...\n",
              "295        3.45        0.010827              -8.014982\n",
              "296        3.46        0.010579              -8.040235\n",
              "297        3.47        0.010335              -8.065453\n",
              "298        3.48        0.010098              -8.090637\n",
              "299        3.49        0.009866              -8.115789\n",
              "\n",
              "[300 rows x 3 columns]"
            ],
            "text/html": [
              "\n",
              "  <div id=\"df-fa99b0c2-e609-4dca-a0f5-972d4c24c723\">\n",
              "    <div class=\"colab-df-container\">\n",
              "      <div>\n",
              "<style scoped>\n",
              "    .dataframe tbody tr th:only-of-type {\n",
              "        vertical-align: middle;\n",
              "    }\n",
              "\n",
              "    .dataframe tbody tr th {\n",
              "        vertical-align: top;\n",
              "    }\n",
              "\n",
              "    .dataframe thead th {\n",
              "        text-align: right;\n",
              "    }\n",
              "</style>\n",
              "<table border=\"1\" class=\"dataframe\">\n",
              "  <thead>\n",
              "    <tr style=\"text-align: right;\">\n",
              "      <th></th>\n",
              "      <th>Mean_Price</th>\n",
              "      <th>Purchase_Proba</th>\n",
              "      <th>Mean_Price_Elasticity</th>\n",
              "    </tr>\n",
              "  </thead>\n",
              "  <tbody>\n",
              "    <tr>\n",
              "      <th>0</th>\n",
              "      <td>0.50</td>\n",
              "      <td>0.917858</td>\n",
              "      <td>-0.096460</td>\n",
              "    </tr>\n",
              "    <tr>\n",
              "      <th>1</th>\n",
              "      <td>0.51</td>\n",
              "      <td>0.916070</td>\n",
              "      <td>-0.100531</td>\n",
              "    </tr>\n",
              "    <tr>\n",
              "      <th>2</th>\n",
              "      <td>0.52</td>\n",
              "      <td>0.914247</td>\n",
              "      <td>-0.104729</td>\n",
              "    </tr>\n",
              "    <tr>\n",
              "      <th>3</th>\n",
              "      <td>0.53</td>\n",
              "      <td>0.912387</td>\n",
              "      <td>-0.109057</td>\n",
              "    </tr>\n",
              "    <tr>\n",
              "      <th>4</th>\n",
              "      <td>0.54</td>\n",
              "      <td>0.910492</td>\n",
              "      <td>-0.113519</td>\n",
              "    </tr>\n",
              "    <tr>\n",
              "      <th>...</th>\n",
              "      <td>...</td>\n",
              "      <td>...</td>\n",
              "      <td>...</td>\n",
              "    </tr>\n",
              "    <tr>\n",
              "      <th>295</th>\n",
              "      <td>3.45</td>\n",
              "      <td>0.010827</td>\n",
              "      <td>-8.014982</td>\n",
              "    </tr>\n",
              "    <tr>\n",
              "      <th>296</th>\n",
              "      <td>3.46</td>\n",
              "      <td>0.010579</td>\n",
              "      <td>-8.040235</td>\n",
              "    </tr>\n",
              "    <tr>\n",
              "      <th>297</th>\n",
              "      <td>3.47</td>\n",
              "      <td>0.010335</td>\n",
              "      <td>-8.065453</td>\n",
              "    </tr>\n",
              "    <tr>\n",
              "      <th>298</th>\n",
              "      <td>3.48</td>\n",
              "      <td>0.010098</td>\n",
              "      <td>-8.090637</td>\n",
              "    </tr>\n",
              "    <tr>\n",
              "      <th>299</th>\n",
              "      <td>3.49</td>\n",
              "      <td>0.009866</td>\n",
              "      <td>-8.115789</td>\n",
              "    </tr>\n",
              "  </tbody>\n",
              "</table>\n",
              "<p>300 rows × 3 columns</p>\n",
              "</div>\n",
              "      <button class=\"colab-df-convert\" onclick=\"convertToInteractive('df-fa99b0c2-e609-4dca-a0f5-972d4c24c723')\"\n",
              "              title=\"Convert this dataframe to an interactive table.\"\n",
              "              style=\"display:none;\">\n",
              "        \n",
              "  <svg xmlns=\"http://www.w3.org/2000/svg\" height=\"24px\"viewBox=\"0 0 24 24\"\n",
              "       width=\"24px\">\n",
              "    <path d=\"M0 0h24v24H0V0z\" fill=\"none\"/>\n",
              "    <path d=\"M18.56 5.44l.94 2.06.94-2.06 2.06-.94-2.06-.94-.94-2.06-.94 2.06-2.06.94zm-11 1L8.5 8.5l.94-2.06 2.06-.94-2.06-.94L8.5 2.5l-.94 2.06-2.06.94zm10 10l.94 2.06.94-2.06 2.06-.94-2.06-.94-.94-2.06-.94 2.06-2.06.94z\"/><path d=\"M17.41 7.96l-1.37-1.37c-.4-.4-.92-.59-1.43-.59-.52 0-1.04.2-1.43.59L10.3 9.45l-7.72 7.72c-.78.78-.78 2.05 0 2.83L4 21.41c.39.39.9.59 1.41.59.51 0 1.02-.2 1.41-.59l7.78-7.78 2.81-2.81c.8-.78.8-2.07 0-2.86zM5.41 20L4 18.59l7.72-7.72 1.47 1.35L5.41 20z\"/>\n",
              "  </svg>\n",
              "      </button>\n",
              "      \n",
              "  <style>\n",
              "    .colab-df-container {\n",
              "      display:flex;\n",
              "      flex-wrap:wrap;\n",
              "      gap: 12px;\n",
              "    }\n",
              "\n",
              "    .colab-df-convert {\n",
              "      background-color: #E8F0FE;\n",
              "      border: none;\n",
              "      border-radius: 50%;\n",
              "      cursor: pointer;\n",
              "      display: none;\n",
              "      fill: #1967D2;\n",
              "      height: 32px;\n",
              "      padding: 0 0 0 0;\n",
              "      width: 32px;\n",
              "    }\n",
              "\n",
              "    .colab-df-convert:hover {\n",
              "      background-color: #E2EBFA;\n",
              "      box-shadow: 0px 1px 2px rgba(60, 64, 67, 0.3), 0px 1px 3px 1px rgba(60, 64, 67, 0.15);\n",
              "      fill: #174EA6;\n",
              "    }\n",
              "\n",
              "    [theme=dark] .colab-df-convert {\n",
              "      background-color: #3B4455;\n",
              "      fill: #D2E3FC;\n",
              "    }\n",
              "\n",
              "    [theme=dark] .colab-df-convert:hover {\n",
              "      background-color: #434B5C;\n",
              "      box-shadow: 0px 1px 3px 1px rgba(0, 0, 0, 0.15);\n",
              "      filter: drop-shadow(0px 1px 2px rgba(0, 0, 0, 0.3));\n",
              "      fill: #FFFFFF;\n",
              "    }\n",
              "  </style>\n",
              "\n",
              "      <script>\n",
              "        const buttonEl =\n",
              "          document.querySelector('#df-fa99b0c2-e609-4dca-a0f5-972d4c24c723 button.colab-df-convert');\n",
              "        buttonEl.style.display =\n",
              "          google.colab.kernel.accessAllowed ? 'block' : 'none';\n",
              "\n",
              "        async function convertToInteractive(key) {\n",
              "          const element = document.querySelector('#df-fa99b0c2-e609-4dca-a0f5-972d4c24c723');\n",
              "          const dataTable =\n",
              "            await google.colab.kernel.invokeFunction('convertToInteractive',\n",
              "                                                     [key], {});\n",
              "          if (!dataTable) return;\n",
              "\n",
              "          const docLinkHtml = 'Like what you see? Visit the ' +\n",
              "            '<a target=\"_blank\" href=https://colab.research.google.com/notebooks/data_table.ipynb>data table notebook</a>'\n",
              "            + ' to learn more about interactive tables.';\n",
              "          element.innerHTML = '';\n",
              "          dataTable['output_type'] = 'display_data';\n",
              "          await google.colab.output.renderOutput(dataTable, element);\n",
              "          const docLink = document.createElement('div');\n",
              "          docLink.innerHTML = docLinkHtml;\n",
              "          element.appendChild(docLink);\n",
              "        }\n",
              "      </script>\n",
              "    </div>\n",
              "  </div>\n",
              "  "
            ]
          },
          "metadata": {},
          "execution_count": 16
        }
      ]
    },
    {
      "cell_type": "code",
      "source": [
        "fig, ax = plt.subplots(figsize=(16, 8))\n",
        "\n",
        "sns.lineplot(data=df_price_elasticity, x='Mean_Price', y='Mean_Price_Elasticity', ax=ax)\n",
        "\n",
        "plt.arrow(1.25, -2.5, 0, 1.3, head_width=0.025, head_length=0.1, color='#FF8400')\n",
        "\n",
        "plt.plot([0.5, 1.22], [-1, -1], color='green')\n",
        "plt.annotate(\"Increase Price\", xy=(0.7, -1.4), color='green', fontsize=15)\n",
        "plt.plot([1.28, 3.5], [-1, -1], color='red')\n",
        "plt.annotate(\"Decrease Price\", xy=(2.0, -1.4), color='red', fontsize=15)\n",
        "\n",
        "plt.show()"
      ],
      "metadata": {
        "colab": {
          "base_uri": "https://localhost:8080/",
          "height": 502
        },
        "id": "SFf2RM68HtcF",
        "outputId": "1b101111-0d9d-4323-b636-f9af66fdcda4"
      },
      "execution_count": null,
      "outputs": [
        {
          "output_type": "display_data",
          "data": {
            "text/plain": [
              "<Figure size 1152x576 with 1 Axes>"
            ],
            "image/png": "[encoded data removed]"
          },
          "metadata": {}
        }
      ]
    },
    {
      "cell_type": "markdown",
      "source": [
        "Compare Price Elasticity by Segment"
      ],
      "metadata": {
        "id": "c-szINQ5H8Fm"
      }
    },
    {
      "cell_type": "code",
      "source": [
        "seg_list = ['standard', 'career-focused', 'fewer-opportunities', 'well-off']\n",
        "\n",
        "for seg in seg_list:\n",
        "    df_data = df_purchase.copy()\n",
        "    df_data = df_data[df_data['Segment'] == seg]\n",
        "\n",
        "    X = pd.DataFrame()\n",
        "    X['Mean_Price'] = df_data['Mean_Price']\n",
        "    y = df_data['Incidence']\n",
        "\n",
        "    lr = LogisticRegression(solver='sag')\n",
        "    lr.fit(X, y)\n",
        "\n",
        "    y_proba = lr.predict_proba(df_price_range)\n",
        "    purchase_proba = y_proba[:][:, 1]\n",
        "    pe = lr.coef_[:, 0] * price_range * (1 - purchase_proba)\n",
        "    \n",
        "    df_price_elasticity[seg + '_Price_Elasticity'] = pe\n"
      ],
      "metadata": {
        "id": "RDhcf88xH8rx"
      },
      "execution_count": null,
      "outputs": []
    },
    {
      "cell_type": "code",
      "source": [
        "fig, ax = plt.subplots(figsize=(16, 8))\n",
        "\n",
        "sns.lineplot(data=df_price_elasticity, x='Mean_Price', y='Mean_Price_Elasticity', ax=ax, color='gray', label='Mean PE')\n",
        "sns.lineplot(data=df_price_elasticity, x='Mean_Price', y='standard_Price_Elasticity', ax=ax, color='green', label='Standard PE')\n",
        "sns.lineplot(data=df_price_elasticity, x='Mean_Price', y='career-focused_Price_Elasticity', ax=ax, color='orange', label='Career-Focused PE')\n",
        "sns.lineplot(data=df_price_elasticity, x='Mean_Price', y='fewer-opportunities_Price_Elasticity', ax=ax, color='blue', label='Fewer-Opportunity PE')\n",
        "sns.lineplot(data=df_price_elasticity, x='Mean_Price', y='well-off_Price_Elasticity', ax=ax, color='red', label='Well-Off PE')\n",
        "\n",
        "plt.show()"
      ],
      "metadata": {
        "colab": {
          "base_uri": "https://localhost:8080/",
          "height": 502
        },
        "id": "6qLZFsA2IG7P",
        "outputId": "41319151-0bd7-4d08-9a0f-7d92ad5ed5ec"
      },
      "execution_count": null,
      "outputs": [
        {
          "output_type": "display_data",
          "data": {
            "text/plain": [
              "<Figure size 1152x576 with 1 Axes>"
            ],
            "image/png": "[encoded data removed]"
          },
          "metadata": {}
        }
      ]
    },
    {
      "cell_type": "code",
      "source": [
        "df_price_elasticity"
      ],
      "metadata": {
        "colab": {
          "base_uri": "https://localhost:8080/",
          "height": 505
        },
        "id": "7WI6kFh9IVJE",
        "outputId": "93835546-9fd6-4126-f21b-23ea5a666517"
      },
      "execution_count": null,
      "outputs": [
        {
          "output_type": "execute_result",
          "data": {
            "text/plain": [
              "     Mean_Price  Purchase_Proba  Mean_Price_Elasticity  \\\n",
              "0          0.50        0.917858              -0.096460   \n",
              "1          0.51        0.916070              -0.100531   \n",
              "2          0.52        0.914247              -0.104729   \n",
              "3          0.53        0.912387              -0.109057   \n",
              "4          0.54        0.910492              -0.113519   \n",
              "..          ...             ...                    ...   \n",
              "295        3.45        0.010827              -8.014982   \n",
              "296        3.46        0.010579              -8.040235   \n",
              "297        3.47        0.010335              -8.065453   \n",
              "298        3.48        0.010098              -8.090637   \n",
              "299        3.49        0.009866              -8.115789   \n",
              "\n",
              "     standard_Price_Elasticity  career-focused_Price_Elasticity  \\\n",
              "0                    -0.211206                        -0.118876   \n",
              "1                    -0.217777                        -0.123055   \n",
              "2                    -0.224456                        -0.127326   \n",
              "3                    -0.231244                        -0.131693   \n",
              "4                    -0.238141                        -0.136155   \n",
              "..                         ...                              ...   \n",
              "295                  -5.051955                        -5.687209   \n",
              "296                  -5.068811                        -5.707385   \n",
              "297                  -5.085648                        -5.727524   \n",
              "298                  -5.102467                        -5.747627   \n",
              "299                  -5.119268                        -5.767694   \n",
              "\n",
              "     fewer-opportunities_Price_Elasticity  well-off_Price_Elasticity  \n",
              "0                               -0.030940                  -0.166995  \n",
              "1                               -0.032708                  -0.171866  \n",
              "2                               -0.034562                  -0.176805  \n",
              "3                               -0.036508                  -0.181814  \n",
              "4                               -0.038549                  -0.186892  \n",
              "..                                    ...                        ...  \n",
              "295                            -12.541143                  -3.961741  \n",
              "296                            -12.578058                  -3.976456  \n",
              "297                            -12.614956                  -3.991156  \n",
              "298                            -12.651838                  -4.005841  \n",
              "299                            -12.688704                  -4.020509  \n",
              "\n",
              "[300 rows x 7 columns]"
            ],
            "text/html": [
              "\n",
              "  <div id=\"df-a5ddd6ab-91be-490b-80c1-36e1b3a0f3fa\">\n",
              "    <div class=\"colab-df-container\">\n",
              "      <div>\n",
              "<style scoped>\n",
              "    .dataframe tbody tr th:only-of-type {\n",
              "        vertical-align: middle;\n",
              "    }\n",
              "\n",
              "    .dataframe tbody tr th {\n",
              "        vertical-align: top;\n",
              "    }\n",
              "\n",
              "    .dataframe thead th {\n",
              "        text-align: right;\n",
              "    }\n",
              "</style>\n",
              "<table border=\"1\" class=\"dataframe\">\n",
              "  <thead>\n",
              "    <tr style=\"text-align: right;\">\n",
              "      <th></th>\n",
              "      <th>Mean_Price</th>\n",
              "      <th>Purchase_Proba</th>\n",
              "      <th>Mean_Price_Elasticity</th>\n",
              "      <th>standard_Price_Elasticity</th>\n",
              "      <th>career-focused_Price_Elasticity</th>\n",
              "      <th>fewer-opportunities_Price_Elasticity</th>\n",
              "      <th>well-off_Price_Elasticity</th>\n",
              "    </tr>\n",
              "  </thead>\n",
              "  <tbody>\n",
              "    <tr>\n",
              "      <th>0</th>\n",
              "      <td>0.50</td>\n",
              "      <td>0.917858</td>\n",
              "      <td>-0.096460</td>\n",
              "      <td>-0.211206</td>\n",
              "      <td>-0.118876</td>\n",
              "      <td>-0.030940</td>\n",
              "      <td>-0.166995</td>\n",
              "    </tr>\n",
              "    <tr>\n",
              "      <th>1</th>\n",
              "      <td>0.51</td>\n",
              "      <td>0.916070</td>\n",
              "      <td>-0.100531</td>\n",
              "      <td>-0.217777</td>\n",
              "      <td>-0.123055</td>\n",
              "      <td>-0.032708</td>\n",
              "      <td>-0.171866</td>\n",
              "    </tr>\n",
              "    <tr>\n",
              "      <th>2</th>\n",
              "      <td>0.52</td>\n",
              "      <td>0.914247</td>\n",
              "      <td>-0.104729</td>\n",
              "      <td>-0.224456</td>\n",
              "      <td>-0.127326</td>\n",
              "      <td>-0.034562</td>\n",
              "      <td>-0.176805</td>\n",
              "    </tr>\n",
              "    <tr>\n",
              "      <th>3</th>\n",
              "      <td>0.53</td>\n",
              "      <td>0.912387</td>\n",
              "      <td>-0.109057</td>\n",
              "      <td>-0.231244</td>\n",
              "      <td>-0.131693</td>\n",
              "      <td>-0.036508</td>\n",
              "      <td>-0.181814</td>\n",
              "    </tr>\n",
              "    <tr>\n",
              "      <th>4</th>\n",
              "      <td>0.54</td>\n",
              "      <td>0.910492</td>\n",
              "      <td>-0.113519</td>\n",
              "      <td>-0.238141</td>\n",
              "      <td>-0.136155</td>\n",
              "      <td>-0.038549</td>\n",
              "      <td>-0.186892</td>\n",
              "    </tr>\n",
              "    <tr>\n",
              "      <th>...</th>\n",
              "      <td>...</td>\n",
              "      <td>...</td>\n",
              "      <td>...</td>\n",
              "      <td>...</td>\n",
              "      <td>...</td>\n",
              "      <td>...</td>\n",
              "      <td>...</td>\n",
              "    </tr>\n",
              "    <tr>\n",
              "      <th>295</th>\n",
              "      <td>3.45</td>\n",
              "      <td>0.010827</td>\n",
              "      <td>-8.014982</td>\n",
              "      <td>-5.051955</td>\n",
              "      <td>-5.687209</td>\n",
              "      <td>-12.541143</td>\n",
              "      <td>-3.961741</td>\n",
              "    </tr>\n",
              "    <tr>\n",
              "      <th>296</th>\n",
              "      <td>3.46</td>\n",
              "      <td>0.010579</td>\n",
              "      <td>-8.040235</td>\n",
              "      <td>-5.068811</td>\n",
              "      <td>-5.707385</td>\n",
              "      <td>-12.578058</td>\n",
              "      <td>-3.976456</td>\n",
              "    </tr>\n",
              "    <tr>\n",
              "      <th>297</th>\n",
              "      <td>3.47</td>\n",
              "      <td>0.010335</td>\n",
              "      <td>-8.065453</td>\n",
              "      <td>-5.085648</td>\n",
              "      <td>-5.727524</td>\n",
              "      <td>-12.614956</td>\n",
              "      <td>-3.991156</td>\n",
              "    </tr>\n",
              "    <tr>\n",
              "      <th>298</th>\n",
              "      <td>3.48</td>\n",
              "      <td>0.010098</td>\n",
              "      <td>-8.090637</td>\n",
              "      <td>-5.102467</td>\n",
              "      <td>-5.747627</td>\n",
              "      <td>-12.651838</td>\n",
              "      <td>-4.005841</td>\n",
              "    </tr>\n",
              "    <tr>\n",
              "      <th>299</th>\n",
              "      <td>3.49</td>\n",
              "      <td>0.009866</td>\n",
              "      <td>-8.115789</td>\n",
              "      <td>-5.119268</td>\n",
              "      <td>-5.767694</td>\n",
              "      <td>-12.688704</td>\n",
              "      <td>-4.020509</td>\n",
              "    </tr>\n",
              "  </tbody>\n",
              "</table>\n",
              "<p>300 rows × 7 columns</p>\n",
              "</div>\n",
              "      <button class=\"colab-df-convert\" onclick=\"convertToInteractive('df-a5ddd6ab-91be-490b-80c1-36e1b3a0f3fa')\"\n",
              "              title=\"Convert this dataframe to an interactive table.\"\n",
              "              style=\"display:none;\">\n",
              "        \n",
              "  <svg xmlns=\"http://www.w3.org/2000/svg\" height=\"24px\"viewBox=\"0 0 24 24\"\n",
              "       width=\"24px\">\n",
              "    <path d=\"M0 0h24v24H0V0z\" fill=\"none\"/>\n",
              "    <path d=\"M18.56 5.44l.94 2.06.94-2.06 2.06-.94-2.06-.94-.94-2.06-.94 2.06-2.06.94zm-11 1L8.5 8.5l.94-2.06 2.06-.94-2.06-.94L8.5 2.5l-.94 2.06-2.06.94zm10 10l.94 2.06.94-2.06 2.06-.94-2.06-.94-.94-2.06-.94 2.06-2.06.94z\"/><path d=\"M17.41 7.96l-1.37-1.37c-.4-.4-.92-.59-1.43-.59-.52 0-1.04.2-1.43.59L10.3 9.45l-7.72 7.72c-.78.78-.78 2.05 0 2.83L4 21.41c.39.39.9.59 1.41.59.51 0 1.02-.2 1.41-.59l7.78-7.78 2.81-2.81c.8-.78.8-2.07 0-2.86zM5.41 20L4 18.59l7.72-7.72 1.47 1.35L5.41 20z\"/>\n",
              "  </svg>\n",
              "      </button>\n",
              "      \n",
              "  <style>\n",
              "    .colab-df-container {\n",
              "      display:flex;\n",
              "      flex-wrap:wrap;\n",
              "      gap: 12px;\n",
              "    }\n",
              "\n",
              "    .colab-df-convert {\n",
              "      background-color: #E8F0FE;\n",
              "      border: none;\n",
              "      border-radius: 50%;\n",
              "      cursor: pointer;\n",
              "      display: none;\n",
              "      fill: #1967D2;\n",
              "      height: 32px;\n",
              "      padding: 0 0 0 0;\n",
              "      width: 32px;\n",
              "    }\n",
              "\n",
              "    .colab-df-convert:hover {\n",
              "      background-color: #E2EBFA;\n",
              "      box-shadow: 0px 1px 2px rgba(60, 64, 67, 0.3), 0px 1px 3px 1px rgba(60, 64, 67, 0.15);\n",
              "      fill: #174EA6;\n",
              "    }\n",
              "\n",
              "    [theme=dark] .colab-df-convert {\n",
              "      background-color: #3B4455;\n",
              "      fill: #D2E3FC;\n",
              "    }\n",
              "\n",
              "    [theme=dark] .colab-df-convert:hover {\n",
              "      background-color: #434B5C;\n",
              "      box-shadow: 0px 1px 3px 1px rgba(0, 0, 0, 0.15);\n",
              "      filter: drop-shadow(0px 1px 2px rgba(0, 0, 0, 0.3));\n",
              "      fill: #FFFFFF;\n",
              "    }\n",
              "  </style>\n",
              "\n",
              "      <script>\n",
              "        const buttonEl =\n",
              "          document.querySelector('#df-a5ddd6ab-91be-490b-80c1-36e1b3a0f3fa button.colab-df-convert');\n",
              "        buttonEl.style.display =\n",
              "          google.colab.kernel.accessAllowed ? 'block' : 'none';\n",
              "\n",
              "        async function convertToInteractive(key) {\n",
              "          const element = document.querySelector('#df-a5ddd6ab-91be-490b-80c1-36e1b3a0f3fa');\n",
              "          const dataTable =\n",
              "            await google.colab.kernel.invokeFunction('convertToInteractive',\n",
              "                                                     [key], {});\n",
              "          if (!dataTable) return;\n",
              "\n",
              "          const docLinkHtml = 'Like what you see? Visit the ' +\n",
              "            '<a target=\"_blank\" href=https://colab.research.google.com/notebooks/data_table.ipynb>data table notebook</a>'\n",
              "            + ' to learn more about interactive tables.';\n",
              "          element.innerHTML = '';\n",
              "          dataTable['output_type'] = 'display_data';\n",
              "          await google.colab.output.renderOutput(dataTable, element);\n",
              "          const docLink = document.createElement('div');\n",
              "          docLink.innerHTML = docLinkHtml;\n",
              "          element.appendChild(docLink);\n",
              "        }\n",
              "      </script>\n",
              "    </div>\n",
              "  </div>\n",
              "  "
            ]
          },
          "metadata": {},
          "execution_count": 20
        }
      ]
    }
  ]
}